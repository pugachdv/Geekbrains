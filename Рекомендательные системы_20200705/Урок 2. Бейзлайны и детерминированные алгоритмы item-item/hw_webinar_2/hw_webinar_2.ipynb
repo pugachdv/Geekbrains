{
 "cells": [
  {
   "cell_type": "code",
   "execution_count": 1,
   "metadata": {},
   "outputs": [],
   "source": [
    "import pandas as pd\n",
    "import numpy as np\n",
    "import matplotlib.pyplot as plt\n",
    "%matplotlib inline\n",
    "\n",
    "# Для работы с матрицами\n",
    "from scipy.sparse import csr_matrix, coo_matrix\n",
    "\n",
    "# Детерминированные алгоритмы\n",
    "from implicit.nearest_neighbours import ItemItemRecommender, CosineRecommender, TFIDFRecommender, BM25Recommender\n",
    "\n",
    "# Метрики\n",
    "from implicit.evaluation import train_test_split\n",
    "from implicit.evaluation import precision_at_k, mean_average_precision_at_k, AUC_at_k, ndcg_at_k"
   ]
  },
  {
   "cell_type": "code",
   "execution_count": 7,
   "metadata": {},
   "outputs": [
    {
     "data": {
      "text/html": [
       "<div>\n",
       "<style scoped>\n",
       "    .dataframe tbody tr th:only-of-type {\n",
       "        vertical-align: middle;\n",
       "    }\n",
       "\n",
       "    .dataframe tbody tr th {\n",
       "        vertical-align: top;\n",
       "    }\n",
       "\n",
       "    .dataframe thead th {\n",
       "        text-align: right;\n",
       "    }\n",
       "</style>\n",
       "<table border=\"1\" class=\"dataframe\">\n",
       "  <thead>\n",
       "    <tr style=\"text-align: right;\">\n",
       "      <th></th>\n",
       "      <th>user_id</th>\n",
       "      <th>basket_id</th>\n",
       "      <th>day</th>\n",
       "      <th>item_id</th>\n",
       "      <th>quantity</th>\n",
       "      <th>sales_value</th>\n",
       "      <th>store_id</th>\n",
       "      <th>retail_disc</th>\n",
       "      <th>trans_time</th>\n",
       "      <th>week_no</th>\n",
       "      <th>coupon_disc</th>\n",
       "      <th>coupon_match_disc</th>\n",
       "    </tr>\n",
       "  </thead>\n",
       "  <tbody>\n",
       "    <tr>\n",
       "      <th>0</th>\n",
       "      <td>2375</td>\n",
       "      <td>26984851472</td>\n",
       "      <td>1</td>\n",
       "      <td>1004906</td>\n",
       "      <td>1</td>\n",
       "      <td>1.39</td>\n",
       "      <td>364</td>\n",
       "      <td>-0.6</td>\n",
       "      <td>1631</td>\n",
       "      <td>1</td>\n",
       "      <td>0.0</td>\n",
       "      <td>0.0</td>\n",
       "    </tr>\n",
       "    <tr>\n",
       "      <th>1</th>\n",
       "      <td>2375</td>\n",
       "      <td>26984851472</td>\n",
       "      <td>1</td>\n",
       "      <td>1033142</td>\n",
       "      <td>1</td>\n",
       "      <td>0.82</td>\n",
       "      <td>364</td>\n",
       "      <td>0.0</td>\n",
       "      <td>1631</td>\n",
       "      <td>1</td>\n",
       "      <td>0.0</td>\n",
       "      <td>0.0</td>\n",
       "    </tr>\n",
       "  </tbody>\n",
       "</table>\n",
       "</div>"
      ],
      "text/plain": [
       "   user_id    basket_id  day  item_id  quantity  sales_value  store_id  \\\n",
       "0     2375  26984851472    1  1004906         1         1.39       364   \n",
       "1     2375  26984851472    1  1033142         1         0.82       364   \n",
       "\n",
       "   retail_disc  trans_time  week_no  coupon_disc  coupon_match_disc  \n",
       "0         -0.6        1631        1          0.0                0.0  \n",
       "1          0.0        1631        1          0.0                0.0  "
      ]
     },
     "execution_count": 7,
     "metadata": {},
     "output_type": "execute_result"
    }
   ],
   "source": [
    "data_file = '/Users/pdvsmac/Dropbox/Geekbrains/Рекомендательные системы_20200705/Урок 2. Бейзлайны и детерминированные алгоритмы item-item/\\\n",
    "retail_train.csv'\n",
    "data = pd.read_csv(data_file) \n",
    "data.head(2)"
   ]
  },
  {
   "cell_type": "code",
   "execution_count": 8,
   "metadata": {},
   "outputs": [],
   "source": [
    "test_size_weeks = 3\n",
    "\n",
    "data_train = data[data['week_no'] < data['week_no'].max() - test_size_weeks]\n",
    "data_test = data[data['week_no'] >= data['week_no'].max() - test_size_weeks]"
   ]
  },
  {
   "cell_type": "markdown",
   "metadata": {},
   "source": [
    "### Задание 1. Weighted Random Recommendation\n",
    "\n",
    "Напишите код для случайных рекоммендаций, в которых вероятность рекомендовать товар прямо пропорциональна логарифму продаж\n",
    "- Можно сэмплировать товары случайно, но пропорционально какому-либо весу\n",
    "- Например, прямопропорционально популярности. Вес = log(sales_sum товара)"
   ]
  },
  {
   "cell_type": "code",
   "execution_count": 37,
   "metadata": {},
   "outputs": [
    {
     "name": "stderr",
     "output_type": "stream",
     "text": [
      "//anaconda3/lib/python3.7/site-packages/ipykernel_launcher.py:5: SettingWithCopyWarning: \n",
      "A value is trying to be set on a copy of a slice from a DataFrame.\n",
      "Try using .loc[row_indexer,col_indexer] = value instead\n",
      "\n",
      "See the caveats in the documentation: http://pandas.pydata.org/pandas-docs/stable/indexing.html#indexing-view-versus-copy\n",
      "  \"\"\"\n"
     ]
    }
   ],
   "source": []
  },
  {
   "cell_type": "code",
   "execution_count": 36,
   "metadata": {},
   "outputs": [],
   "source": [
    "def weighted_random_recommendation(items, items_weights, n=5):\n",
    "    # your_code\n",
    "    \n",
    "    items = np.array(items)\n",
    "    recs = np.random.choice(items, size=n, p=items_weights, replace=False)    \n",
    "    \n",
    "    return recs.tolist()"
   ]
  },
  {
   "cell_type": "code",
   "execution_count": 56,
   "metadata": {},
   "outputs": [
    {
     "name": "stderr",
     "output_type": "stream",
     "text": [
      "//anaconda3/lib/python3.7/site-packages/ipykernel_launcher.py:5: SettingWithCopyWarning: \n",
      "A value is trying to be set on a copy of a slice from a DataFrame.\n",
      "Try using .loc[row_indexer,col_indexer] = value instead\n",
      "\n",
      "See the caveats in the documentation: http://pandas.pydata.org/pandas-docs/stable/indexing.html#indexing-view-versus-copy\n",
      "  \"\"\"\n",
      "//anaconda3/lib/python3.7/site-packages/ipykernel_launcher.py:8: SettingWithCopyWarning: \n",
      "A value is trying to be set on a copy of a slice from a DataFrame.\n",
      "Try using .loc[row_indexer,col_indexer] = value instead\n",
      "\n",
      "See the caveats in the documentation: http://pandas.pydata.org/pandas-docs/stable/indexing.html#indexing-view-versus-copy\n",
      "  \n"
     ]
    },
    {
     "data": {
      "text/html": [
       "<div>\n",
       "<style scoped>\n",
       "    .dataframe tbody tr th:only-of-type {\n",
       "        vertical-align: middle;\n",
       "    }\n",
       "\n",
       "    .dataframe tbody tr th {\n",
       "        vertical-align: top;\n",
       "    }\n",
       "\n",
       "    .dataframe thead th {\n",
       "        text-align: right;\n",
       "    }\n",
       "</style>\n",
       "<table border=\"1\" class=\"dataframe\">\n",
       "  <thead>\n",
       "    <tr style=\"text-align: right;\">\n",
       "      <th></th>\n",
       "      <th>item_id</th>\n",
       "      <th>sales_value</th>\n",
       "      <th>sales_sum_log</th>\n",
       "      <th>sales_sum_log_norm</th>\n",
       "    </tr>\n",
       "  </thead>\n",
       "  <tbody>\n",
       "    <tr>\n",
       "      <th>0</th>\n",
       "      <td>25671</td>\n",
       "      <td>20.94</td>\n",
       "      <td>3.041661</td>\n",
       "      <td>0.790111</td>\n",
       "    </tr>\n",
       "    <tr>\n",
       "      <th>1</th>\n",
       "      <td>26081</td>\n",
       "      <td>0.99</td>\n",
       "      <td>-0.010050</td>\n",
       "      <td>0.726152</td>\n",
       "    </tr>\n",
       "    <tr>\n",
       "      <th>2</th>\n",
       "      <td>26093</td>\n",
       "      <td>1.59</td>\n",
       "      <td>0.463734</td>\n",
       "      <td>0.736082</td>\n",
       "    </tr>\n",
       "    <tr>\n",
       "      <th>3</th>\n",
       "      <td>26190</td>\n",
       "      <td>1.54</td>\n",
       "      <td>0.431782</td>\n",
       "      <td>0.735412</td>\n",
       "    </tr>\n",
       "    <tr>\n",
       "      <th>4</th>\n",
       "      <td>26355</td>\n",
       "      <td>1.98</td>\n",
       "      <td>0.683097</td>\n",
       "      <td>0.740679</td>\n",
       "    </tr>\n",
       "  </tbody>\n",
       "</table>\n",
       "</div>"
      ],
      "text/plain": [
       "   item_id  sales_value  sales_sum_log  sales_sum_log_norm\n",
       "0    25671        20.94       3.041661            0.790111\n",
       "1    26081         0.99      -0.010050            0.726152\n",
       "2    26093         1.59       0.463734            0.736082\n",
       "3    26190         1.54       0.431782            0.735412\n",
       "4    26355         1.98       0.683097            0.740679"
      ]
     },
     "execution_count": 56,
     "metadata": {},
     "output_type": "execute_result"
    }
   ],
   "source": [
    "popularity = data.groupby('item_id')['sales_value'].sum().reset_index()\n",
    "# берем где продажи > 0\n",
    "popularity_positive = popularity[popularity['sales_value'] > 0]\n",
    "# берем логариф продаж\n",
    "popularity_positive['sales_sum_log'] = np.log(popularity_positive['sales_value'])\n",
    "# сделаем нормализацию 0-1\n",
    "popularity_positive['sales_sum_log_norm']=((popularity_positive['sales_sum_log']-popularity_positive['sales_sum_log'].min())/\\\n",
    "                                           (popularity_positive['sales_sum_log'].max()-popularity_positive['sales_sum_log'].min()))\n",
    "\n",
    "popularity_positive.head()\n"
   ]
  },
  {
   "cell_type": "code",
   "execution_count": 61,
   "metadata": {},
   "outputs": [
    {
     "name": "stdout",
     "output_type": "stream",
     "text": [
      "CPU times: user 281 ms, sys: 13.2 ms, total: 294 ms\n",
      "Wall time: 293 ms\n"
     ]
    },
    {
     "name": "stderr",
     "output_type": "stream",
     "text": [
      "//anaconda3/lib/python3.7/site-packages/ipykernel_launcher.py:5: SettingWithCopyWarning: \n",
      "A value is trying to be set on a copy of a slice from a DataFrame.\n",
      "Try using .loc[row_indexer,col_indexer] = value instead\n",
      "\n",
      "See the caveats in the documentation: http://pandas.pydata.org/pandas-docs/stable/indexing.html#indexing-view-versus-copy\n",
      "  \"\"\"\n",
      "//anaconda3/lib/python3.7/site-packages/ipykernel_launcher.py:8: SettingWithCopyWarning: \n",
      "A value is trying to be set on a copy of a slice from a DataFrame.\n",
      "Try using .loc[row_indexer,col_indexer] = value instead\n",
      "\n",
      "See the caveats in the documentation: http://pandas.pydata.org/pandas-docs/stable/indexing.html#indexing-view-versus-copy\n",
      "  \n",
      "//anaconda3/lib/python3.7/site-packages/ipykernel_launcher.py:11: SettingWithCopyWarning: \n",
      "A value is trying to be set on a copy of a slice from a DataFrame.\n",
      "Try using .loc[row_indexer,col_indexer] = value instead\n",
      "\n",
      "See the caveats in the documentation: http://pandas.pydata.org/pandas-docs/stable/indexing.html#indexing-view-versus-copy\n",
      "  # This is added back by InteractiveShellApp.init_path()\n"
     ]
    }
   ],
   "source": [
    "%%time\n",
    "\n",
    "popularity = data.groupby('item_id')['sales_value'].sum().reset_index()\n",
    "# берем где продажи > 0\n",
    "popularity_positive = popularity[popularity['sales_value'] > 0]\n",
    "# берем логариф продаж\n",
    "popularity_positive['sales_sum_log'] = np.log(popularity_positive['sales_value'])\n",
    "# сделаем нормализацию 0-1\n",
    "popularity_positive['sales_sum_log_norm'] = ((popularity_positive['sales_sum_log']-popularity_positive['sales_sum_log'].min())/\\\n",
    "                                           (popularity_positive['sales_sum_log'].max()-popularity_positive['sales_sum_log'].min()))\n",
    "\n",
    "# сделаем переведем в вероятность 0-1\n",
    "popularity_positive['sales_sum_log_prob'] = popularity_positive['sales_sum_log_norm'] / popularity_positive['sales_sum_log_norm'].sum()\n",
    "\n",
    "\n",
    "items = popularity_positive['item_id']\n",
    "items_weights = popularity_positive['sales_sum_log_prob']\n",
    "\n",
    "popular_recs = weighted_random_recommendation(items, items_weights, n=5)\n",
    "\n",
    "# result['popular_recommendation'] = result['user_id'].apply(lambda x: popular_recs)\n",
    "# result.head(2)"
   ]
  },
  {
   "cell_type": "code",
   "execution_count": 62,
   "metadata": {},
   "outputs": [
    {
     "data": {
      "text/plain": [
       "[1024139, 1098172, 9552767, 1119357, 863186]"
      ]
     },
     "execution_count": 62,
     "metadata": {},
     "output_type": "execute_result"
    }
   ],
   "source": [
    "popular_recs"
   ]
  },
  {
   "cell_type": "markdown",
   "metadata": {},
   "source": [
    "### Задание 2. Расчет метрик\n",
    "Рассчитайте Precision@5 для каждого алгоритма с помощью функции из вебинара 1. Какой алгоритм показывает лучшее качество?"
   ]
  },
  {
   "cell_type": "code",
   "execution_count": 5,
   "metadata": {},
   "outputs": [
    {
     "data": {
      "text/html": [
       "<div>\n",
       "<style scoped>\n",
       "    .dataframe tbody tr th:only-of-type {\n",
       "        vertical-align: middle;\n",
       "    }\n",
       "\n",
       "    .dataframe tbody tr th {\n",
       "        vertical-align: top;\n",
       "    }\n",
       "\n",
       "    .dataframe thead th {\n",
       "        text-align: right;\n",
       "    }\n",
       "</style>\n",
       "<table border=\"1\" class=\"dataframe\">\n",
       "  <thead>\n",
       "    <tr style=\"text-align: right;\">\n",
       "      <th></th>\n",
       "      <th>user_id</th>\n",
       "      <th>actual</th>\n",
       "      <th>random_recommendation</th>\n",
       "      <th>popular_recommendation</th>\n",
       "      <th>itemitem</th>\n",
       "      <th>cosine</th>\n",
       "      <th>tfidf</th>\n",
       "      <th>own_purchases</th>\n",
       "    </tr>\n",
       "  </thead>\n",
       "  <tbody>\n",
       "    <tr>\n",
       "      <th>0</th>\n",
       "      <td>1</td>\n",
       "      <td>[  821867   834484   856942   865456   889248 ...</td>\n",
       "      <td>[5586238, 1015228, 866118, 2416733, 2603573]</td>\n",
       "      <td>[6534178, 6533889, 1029743, 6534166, 1082185]</td>\n",
       "      <td>[981760, 1127831, 1098066, 826249, 878996]</td>\n",
       "      <td>[981760, 1127831, 1098066, 878996, 826249]</td>\n",
       "      <td>[981760, 1127831, 1098066, 826249, 878996]</td>\n",
       "      <td>[999999, 1082185, 1029743, 995785, 1004906]</td>\n",
       "    </tr>\n",
       "    <tr>\n",
       "      <th>1</th>\n",
       "      <td>3</td>\n",
       "      <td>[  835476   851057   872021   878302   879948 ...</td>\n",
       "      <td>[161354, 63027, 1027802, 12263694, 307395]</td>\n",
       "      <td>[6534178, 6533889, 1029743, 6534166, 1082185]</td>\n",
       "      <td>[981760, 995242, 1029743, 840361, 961554]</td>\n",
       "      <td>[981760, 1004906, 961554, 1096036, 1080414]</td>\n",
       "      <td>[981760, 1004906, 859075, 1096036, 961554]</td>\n",
       "      <td>[999999, 1082185, 1098066, 6534178, 1127831]</td>\n",
       "    </tr>\n",
       "  </tbody>\n",
       "</table>\n",
       "</div>"
      ],
      "text/plain": [
       "   user_id                                             actual  \\\n",
       "0        1  [  821867   834484   856942   865456   889248 ...   \n",
       "1        3  [  835476   851057   872021   878302   879948 ...   \n",
       "\n",
       "                          random_recommendation  \\\n",
       "0  [5586238, 1015228, 866118, 2416733, 2603573]   \n",
       "1    [161354, 63027, 1027802, 12263694, 307395]   \n",
       "\n",
       "                          popular_recommendation  \\\n",
       "0  [6534178, 6533889, 1029743, 6534166, 1082185]   \n",
       "1  [6534178, 6533889, 1029743, 6534166, 1082185]   \n",
       "\n",
       "                                     itemitem  \\\n",
       "0  [981760, 1127831, 1098066, 826249, 878996]   \n",
       "1   [981760, 995242, 1029743, 840361, 961554]   \n",
       "\n",
       "                                        cosine  \\\n",
       "0   [981760, 1127831, 1098066, 878996, 826249]   \n",
       "1  [981760, 1004906, 961554, 1096036, 1080414]   \n",
       "\n",
       "                                        tfidf  \\\n",
       "0  [981760, 1127831, 1098066, 826249, 878996]   \n",
       "1  [981760, 1004906, 859075, 1096036, 961554]   \n",
       "\n",
       "                                  own_purchases  \n",
       "0   [999999, 1082185, 1029743, 995785, 1004906]  \n",
       "1  [999999, 1082185, 1098066, 6534178, 1127831]  "
      ]
     },
     "execution_count": 5,
     "metadata": {},
     "output_type": "execute_result"
    }
   ],
   "source": [
    "result = pd.read_csv('../predictions/predictions_basic.csv')\n",
    "result.head(2)"
   ]
  },
  {
   "cell_type": "code",
   "execution_count": null,
   "metadata": {},
   "outputs": [],
   "source": [
    "# your_code"
   ]
  },
  {
   "cell_type": "markdown",
   "metadata": {},
   "source": [
    "### Задание 3*. Улучшение бейзлайнов и ItemItem\n",
    "\n",
    "- Попробуйте улучшить бейзлайны, считая их на топ-5000 товаров\n",
    "- Попробуйте улучшить разные варианты ItemItemRecommender, выбирая число соседей $K$."
   ]
  },
  {
   "cell_type": "code",
   "execution_count": null,
   "metadata": {},
   "outputs": [],
   "source": [
    "# your_code"
   ]
  }
 ],
 "metadata": {
  "kernelspec": {
   "display_name": "Python 3",
   "language": "python",
   "name": "python3"
  },
  "language_info": {
   "codemirror_mode": {
    "name": "ipython",
    "version": 3
   },
   "file_extension": ".py",
   "mimetype": "text/x-python",
   "name": "python",
   "nbconvert_exporter": "python",
   "pygments_lexer": "ipython3",
   "version": "3.7.3"
  }
 },
 "nbformat": 4,
 "nbformat_minor": 4
}
