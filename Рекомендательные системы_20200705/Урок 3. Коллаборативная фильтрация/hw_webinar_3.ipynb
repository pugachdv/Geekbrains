{
 "cells": [
  {
   "cell_type": "markdown",
   "metadata": {},
   "source": [
    "В качестве домашнего задания ответьте на следующие вопросы:\n",
    "1. В чем принципиальные отличия item-item рекомендаций от ALS?\n",
    "\n",
    "ALS это способ оптимизации, так для больших датасетов расчет item-item либо не представляется возможным, либо дорого.\n",
    "\n",
    "2. Приведите 3 примера весов user-item матрицы для задачи рекоммендаций товаров\n",
    "\n",
    "Количество покупок, сумма покупок item, регулярность покупок (количество за период), срок до последней покупки\n",
    "\n",
    "3. Какие ограничения есть у ALS? (Тип информации, линейность/нелинейность факторов и т д)\n",
    "\n",
    "Принимает на вход только положительные значения значения. Одинаковый приоритет у прошлых и недавних покупок."
   ]
  },
  {
   "cell_type": "code",
   "execution_count": null,
   "metadata": {},
   "outputs": [],
   "source": []
  }
 ],
 "metadata": {
  "kernelspec": {
   "display_name": "Python 3",
   "language": "python",
   "name": "python3"
  },
  "language_info": {
   "codemirror_mode": {
    "name": "ipython",
    "version": 3
   },
   "file_extension": ".py",
   "mimetype": "text/x-python",
   "name": "python",
   "nbconvert_exporter": "python",
   "pygments_lexer": "ipython3",
   "version": "3.7.3"
  }
 },
 "nbformat": 4,
 "nbformat_minor": 4
}
