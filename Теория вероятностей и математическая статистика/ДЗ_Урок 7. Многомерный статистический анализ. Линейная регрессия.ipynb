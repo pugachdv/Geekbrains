{
 "cells": [
  {
   "cell_type": "code",
   "execution_count": 21,
   "metadata": {},
   "outputs": [],
   "source": [
    "from math import factorial\n",
    "from math import exp, pi, sqrt\n",
    "import numpy as np\n",
    "import matplotlib.pyplot as plt\n",
    "import pandas as pd\n",
    "\n",
    "from scipy.stats import truncnorm\n",
    "import scipy\n",
    "\n",
    "from numpy import trapz\n",
    "\n",
    "def combination(n, k):\n",
    "    return int(factorial(n) / factorial(k) / factorial(n - k))\n",
    "\n",
    "def arrangements(n, k):\n",
    "    return int(factorial(n) / factorial(n - k))"
   ]
  },
  {
   "cell_type": "markdown",
   "metadata": {},
   "source": [
    "1. Даны значения величины заработной платы заемщиков банка (zp) и значения их поведенческого кредитного скоринга (ks): zp = [35, 45, 190, 200, 40, 70, 54, 150, 120, 110], ks = [401, 574, 874, 919, 459, 739, 653, 902, 746, 832]. Используя математические операции, посчитать коэффициенты линейной регрессии, приняв за X заработную плату (то есть, zp - признак), а за y - значения скорингового балла (то есть, ks - целевая переменная). Произвести расчет как с использованием intercept, так и без."
   ]
  },
  {
   "cell_type": "code",
   "execution_count": 25,
   "metadata": {},
   "outputs": [
    {
     "data": {
      "text/plain": [
       "(array([ 35,  45, 190, 200,  40,  70,  54, 150, 120, 110]),\n",
       " array([401, 574, 874, 919, 459, 739, 653, 902, 746, 832]))"
      ]
     },
     "execution_count": 25,
     "metadata": {},
     "output_type": "execute_result"
    }
   ],
   "source": [
    "X = zp = np.array([35, 45, 190, 200, 40, 70, 54, 150, 120, 110])\n",
    "y = ks = np.array([401, 574, 874, 919, 459, 739, 653, 902, 746, 832])\n",
    "X, y"
   ]
  },
  {
   "cell_type": "code",
   "execution_count": 24,
   "metadata": {},
   "outputs": [
    {
     "data": {
      "text/plain": [
       "10"
      ]
     },
     "execution_count": 24,
     "metadata": {},
     "output_type": "execute_result"
    }
   ],
   "source": [
    "n = len(X)\n",
    "n"
   ]
  },
  {
   "cell_type": "code",
   "execution_count": 28,
   "metadata": {},
   "outputs": [
    {
     "data": {
      "text/plain": [
       "(444.1773573243596, 2.620538882402765)"
      ]
     },
     "execution_count": 28,
     "metadata": {},
     "output_type": "execute_result"
    }
   ],
   "source": [
    "b = (np.mean(X*y)-np.mean(X)*np.mean(y))/(np.mean(X**2)-np.mean(X)**2)\n",
    "a = np.mean(y)-b*np.mean(X)\n",
    "a, b"
   ]
  },
  {
   "cell_type": "code",
   "execution_count": 48,
   "metadata": {},
   "outputs": [
    {
     "data": {
      "text/plain": [
       "(array([[ 35],\n",
       "        [ 45],\n",
       "        [190],\n",
       "        [200],\n",
       "        [ 40],\n",
       "        [ 70],\n",
       "        [ 54],\n",
       "        [150],\n",
       "        [120],\n",
       "        [110]]), array([[401],\n",
       "        [574],\n",
       "        [874],\n",
       "        [919],\n",
       "        [459],\n",
       "        [739],\n",
       "        [653],\n",
       "        [902],\n",
       "        [746],\n",
       "        [832]]))"
      ]
     },
     "execution_count": 48,
     "metadata": {},
     "output_type": "execute_result"
    }
   ],
   "source": [
    "X = X.reshape(10,1)\n",
    "y = y.reshape(10, 1)\n",
    "X, y"
   ]
  },
  {
   "cell_type": "code",
   "execution_count": 49,
   "metadata": {},
   "outputs": [
    {
     "data": {
      "text/plain": [
       "array([[5.88982042]])"
      ]
     },
     "execution_count": 49,
     "metadata": {},
     "output_type": "execute_result"
    }
   ],
   "source": [
    "B = np.dot(np.linalg.inv(np.dot(X.T, X)), X.T@y) #Без интерсепта\n",
    "B"
   ]
  },
  {
   "cell_type": "code",
   "execution_count": 51,
   "metadata": {},
   "outputs": [
    {
     "data": {
      "text/plain": [
       "array([[  1.,  35.],\n",
       "       [  1.,  45.],\n",
       "       [  1., 190.],\n",
       "       [  1., 200.],\n",
       "       [  1.,  40.],\n",
       "       [  1.,  70.],\n",
       "       [  1.,  54.],\n",
       "       [  1., 150.],\n",
       "       [  1., 120.],\n",
       "       [  1., 110.]])"
      ]
     },
     "execution_count": 51,
     "metadata": {},
     "output_type": "execute_result"
    }
   ],
   "source": [
    "X = np.hstack([np.ones((10, 1)), X])\n",
    "X"
   ]
  },
  {
   "cell_type": "code",
   "execution_count": 53,
   "metadata": {},
   "outputs": [
    {
     "data": {
      "text/plain": [
       "array([[444.17735732],\n",
       "       [  2.62053888]])"
      ]
     },
     "execution_count": 53,
     "metadata": {},
     "output_type": "execute_result"
    }
   ],
   "source": [
    "B = np.dot(np.linalg.inv(np.dot(X.T, X)), X.T@y) #С интерсептом\n",
    "B"
   ]
  },
  {
   "cell_type": "markdown",
   "metadata": {},
   "source": [
    "2. Посчитать коэффициент линейной регрессии при заработной плате (zp), используя градиентный спуск (без intercept)."
   ]
  },
  {
   "cell_type": "code",
   "execution_count": 54,
   "metadata": {},
   "outputs": [
    {
     "data": {
      "text/plain": [
       "(array([ 35,  45, 190, 200,  40,  70,  54, 150, 120, 110]),\n",
       " array([401, 574, 874, 919, 459, 739, 653, 902, 746, 832]))"
      ]
     },
     "execution_count": 54,
     "metadata": {},
     "output_type": "execute_result"
    }
   ],
   "source": [
    "X = zp = np.array([35, 45, 190, 200, 40, 70, 54, 150, 120, 110])\n",
    "y = ks = np.array([401, 574, 874, 919, 459, 739, 653, 902, 746, 832])\n",
    "X, y"
   ]
  },
  {
   "cell_type": "code",
   "execution_count": 55,
   "metadata": {},
   "outputs": [],
   "source": [
    "def mse_(B1, y=y , X=X, n=len(X)):\n",
    "    return np.sum((B1*X-y)**2)/n"
   ]
  },
  {
   "cell_type": "code",
   "execution_count": 56,
   "metadata": {},
   "outputs": [],
   "source": [
    "B1 = 0.1\n",
    "alpha = 1e-6"
   ]
  },
  {
   "cell_type": "code",
   "execution_count": 63,
   "metadata": {},
   "outputs": [
    {
     "name": "stdout",
     "output_type": "stream",
     "text": [
      "iteration: 0, B1=5.889820420132673, mse=56516.85841571943\n",
      "iteration: 1000, B1=5.889820420132673, mse=56516.85841571943\n",
      "iteration: 2000, B1=5.889820420132673, mse=56516.85841571943\n",
      "iteration: 3000, B1=5.889820420132673, mse=56516.85841571943\n",
      "iteration: 4000, B1=5.889820420132673, mse=56516.85841571943\n",
      "iteration: 5000, B1=5.889820420132673, mse=56516.85841571943\n",
      "iteration: 6000, B1=5.889820420132673, mse=56516.85841571943\n",
      "iteration: 7000, B1=5.889820420132673, mse=56516.85841571943\n",
      "iteration: 8000, B1=5.889820420132673, mse=56516.85841571943\n",
      "iteration: 9000, B1=5.889820420132673, mse=56516.85841571943\n"
     ]
    }
   ],
   "source": [
    "for i in range(10000):\n",
    "    B1 -= alpha*(2/n)*np.sum((B1*X-y)*X)\n",
    "    if i%1000==0:\n",
    "        print('iteration: {i}, B1={B1}, mse={mse}'.format(i=i, B1=B1, mse=mse_(B1)))"
   ]
  },
  {
   "cell_type": "markdown",
   "metadata": {},
   "source": [
    "3. Посчитать коэффициент линейной регрессии при заработной плате (zp), используя градиентный спуск (intercept)."
   ]
  },
  {
   "cell_type": "code",
   "execution_count": 64,
   "metadata": {},
   "outputs": [
    {
     "data": {
      "text/plain": [
       "(array([ 35,  45, 190, 200,  40,  70,  54, 150, 120, 110]),\n",
       " array([401, 574, 874, 919, 459, 739, 653, 902, 746, 832]))"
      ]
     },
     "execution_count": 64,
     "metadata": {},
     "output_type": "execute_result"
    }
   ],
   "source": [
    "X = zp = np.array([35, 45, 190, 200, 40, 70, 54, 150, 120, 110])\n",
    "y = ks = np.array([401, 574, 874, 919, 459, 739, 653, 902, 746, 832])\n",
    "X, y"
   ]
  },
  {
   "cell_type": "code",
   "execution_count": 101,
   "metadata": {},
   "outputs": [],
   "source": [
    "B0 = 0.1,\n",
    "B1 = 0.1,\n",
    "alpha = 0.05/1000"
   ]
  },
  {
   "cell_type": "code",
   "execution_count": 83,
   "metadata": {},
   "outputs": [],
   "source": [
    "def mse_(B0, B1, y=y , X=X, n=len(X)):\n",
    "    return np.sum((B0+B1*X-y)**2)/n"
   ]
  },
  {
   "cell_type": "code",
   "execution_count": 102,
   "metadata": {},
   "outputs": [
    {
     "name": "stdout",
     "output_type": "stream",
     "text": [
      "iteration: 0, B0=[0.169966], B1=[8.07539], mse=122360.8044853729\n",
      "iteration: 25000, B0=[208.67015558], B1=[4.35397601], mse=20539.593994170813\n",
      "iteration: 50000, B0=[319.2658519], B1=[3.53994279], mse=10428.318419057196\n",
      "iteration: 75000, B0=[377.92509807], B1=[3.1081848], mse=7583.841282812003\n",
      "iteration: 100000, B0=[409.03758504], B1=[2.87918314], mse=6783.640544683958\n",
      "iteration: 125000, B0=[425.53944806], B1=[2.75772213], mse=6558.530202561238\n",
      "iteration: 150000, B0=[434.2919301], B1=[2.6933], mse=6495.202760188238\n",
      "iteration: 175000, B0=[438.93419029], B1=[2.65913091], mse=6477.387652629451\n",
      "iteration: 200000, B0=[441.39641525], B1=[2.64100785], mse=6472.375953981324\n",
      "iteration: 225000, B0=[442.70236353], B1=[2.63139549], mse=6470.966076254969\n",
      "iteration: 250000, B0=[443.3950301], B1=[2.62629716], mse=6470.569453205014\n",
      "iteration: 275000, B0=[443.76241599], B1=[2.62359303], mse=6470.457876264116\n",
      "iteration: 300000, B0=[443.95727511], B1=[2.62215878], mse=6470.426487736031\n",
      "iteration: 325000, B0=[444.06062713], B1=[2.62139807], mse=6470.417657598848\n",
      "iteration: 350000, B0=[444.11544438], B1=[2.62099459], mse=6470.415173528149\n",
      "iteration: 375000, B0=[444.1445191], B1=[2.62078059], mse=6470.4144747159935\n",
      "iteration: 400000, B0=[444.15994014], B1=[2.62066708], mse=6470.414278128017\n",
      "iteration: 425000, B0=[444.16811936], B1=[2.62060688], mse=6470.414222824412\n",
      "iteration: 450000, B0=[444.17245757], B1=[2.62057495], mse=6470.414207266549\n",
      "iteration: 475000, B0=[444.17475853], B1=[2.62055801], mse=6470.414202889848\n",
      "iteration: 500000, B0=[444.17597894], B1=[2.62054903], mse=6470.414201658608\n",
      "iteration: 525000, B0=[444.17662624], B1=[2.62054426], mse=6470.414201312241\n",
      "iteration: 550000, B0=[444.17696956], B1=[2.62054174], mse=6470.4142012148\n",
      "iteration: 575000, B0=[444.17715166], B1=[2.6205404], mse=6470.4142011873855\n",
      "iteration: 600000, B0=[444.17724824], B1=[2.62053969], mse=6470.414201179677\n",
      "iteration: 625000, B0=[444.17729947], B1=[2.62053931], mse=6470.414201177507\n",
      "iteration: 650000, B0=[444.17732664], B1=[2.62053911], mse=6470.414201176895\n",
      "iteration: 675000, B0=[444.17734105], B1=[2.620539], mse=6470.414201176729\n",
      "iteration: 700000, B0=[444.17734869], B1=[2.62053895], mse=6470.414201176677\n",
      "iteration: 725000, B0=[444.17735275], B1=[2.62053892], mse=6470.414201176665\n",
      "iteration: 750000, B0=[444.1773549], B1=[2.6205389], mse=6470.414201176662\n",
      "iteration: 775000, B0=[444.17735604], B1=[2.62053889], mse=6470.41420117666\n",
      "iteration: 800000, B0=[444.17735664], B1=[2.62053889], mse=6470.41420117666\n",
      "iteration: 825000, B0=[444.17735696], B1=[2.62053889], mse=6470.414201176658\n",
      "iteration: 850000, B0=[444.17735713], B1=[2.62053888], mse=6470.414201176663\n",
      "iteration: 875000, B0=[444.17735722], B1=[2.62053888], mse=6470.414201176657\n",
      "iteration: 900000, B0=[444.17735727], B1=[2.62053888], mse=6470.41420117666\n",
      "iteration: 925000, B0=[444.1773573], B1=[2.62053888], mse=6470.414201176656\n",
      "iteration: 950000, B0=[444.17735731], B1=[2.62053888], mse=6470.414201176658\n",
      "iteration: 975000, B0=[444.17735732], B1=[2.62053888], mse=6470.414201176656\n"
     ]
    }
   ],
   "source": [
    "for i in range(1000000):\n",
    "    y_pred = B0+B1*X\n",
    "    B0 -= alpha*(2/n)*np.sum((y_pred-y))\n",
    "    B1 -= alpha*(2/n)*np.sum((y_pred-y)*X)\n",
    "    if i%25000==0:\n",
    "        print('iteration: {i}, B0={B0}, B1={B1}, mse={mse}'.format(i=i, B0=B0, B1=B1, mse=mse_(B0, B1)))"
   ]
  },
  {
   "cell_type": "code",
   "execution_count": null,
   "metadata": {},
   "outputs": [],
   "source": []
  }
 ],
 "metadata": {
  "kernelspec": {
   "display_name": "Python 3",
   "language": "python",
   "name": "python3"
  },
  "language_info": {
   "codemirror_mode": {
    "name": "ipython",
    "version": 3
   },
   "file_extension": ".py",
   "mimetype": "text/x-python",
   "name": "python",
   "nbconvert_exporter": "python",
   "pygments_lexer": "ipython3",
   "version": "3.7.3"
  }
 },
 "nbformat": 4,
 "nbformat_minor": 4
}
